{
 "cells": [
  {
   "cell_type": "code",
   "execution_count": 1,
   "metadata": {},
   "outputs": [],
   "source": [
    "l = [1, 2, 3]"
   ]
  },
  {
   "cell_type": "code",
   "execution_count": 2,
   "metadata": {},
   "outputs": [
    {
     "name": "stdout",
     "output_type": "stream",
     "text": [
      "3\n"
     ]
    }
   ],
   "source": [
    "print(len(l))"
   ]
  },
  {
   "cell_type": "code",
   "execution_count": 3,
   "metadata": {},
   "outputs": [
    {
     "name": "stdout",
     "output_type": "stream",
     "text": [
      "error: \u001b[0;1;31m\u001b[1mExpression [3]:1:8: \u001b[0m\u001b[1m'ListLiteral[Int, Int, Int]' is not subscriptable, it does not implement the `__getitem__`/`__setitem__` or `__refitem__` methods\n",
      "\u001b[0mprint(l[0])\n",
      "\u001b[0;1;32m      ~^\n",
      "\u001b[0m\u001b[0m"
     ]
    },
    {
     "name": "stderr",
     "output_type": "stream",
     "text": [
      "expression failed to parse (no further compiler diagnostics)"
     ]
    }
   ],
   "source": [
    "print(l[0])"
   ]
  },
  {
   "cell_type": "code",
   "execution_count": null,
   "metadata": {},
   "outputs": [
    {
     "name": "stdout",
     "output_type": "stream",
     "text": [
      "1\n"
     ]
    }
   ],
   "source": [
    "print(l.get[0, Int]())"
   ]
  },
  {
   "cell_type": "markdown",
   "metadata": {},
   "source": [
    "Parece que el soporte de listas en mojo no es muy bueno. Lo único que he encontrado que puede hacer el apaño es trabajar con tensores... pero ya pierde toda compatibilidad con Python :("
   ]
  },
  {
   "cell_type": "code",
   "execution_count": 19,
   "metadata": {},
   "outputs": [],
   "source": [
    "from tensor import Tensor, TensorSpec, TensorShape\n",
    "from utils.index import Index"
   ]
  },
  {
   "cell_type": "code",
   "execution_count": 21,
   "metadata": {},
   "outputs": [
    {
     "name": "stdout",
     "output_type": "stream",
     "text": [
      "Tensor([[[0, 0, 0],\n",
      "[0, 0, 0],\n",
      "[0, 0, 0]],\n",
      "[[0, 0, 0],\n",
      "[0, 0, 0],\n",
      "[0, 0, 0]],\n",
      "[[0, 0, 0],\n",
      "[0, 0, 0],\n",
      "[0, 0, 0]]], dtype=uint8, shape=3x3x3)\n"
     ]
    }
   ],
   "source": [
    "var height = 3\n",
    "var width = 3\n",
    "\n",
    "var spec = TensorSpec(DType.uint8, 3, height, width)\n",
    "\n",
    "x = Tensor[DType.uint8](spec)\n",
    "\n",
    "print(x)"
   ]
  },
  {
   "cell_type": "code",
   "execution_count": 22,
   "metadata": {},
   "outputs": [
    {
     "name": "stdout",
     "output_type": "stream",
     "text": [
      "Tensor([[[0, 0, 0],\n",
      "[0, 1, 0],\n",
      "[0, 0, 0]],\n",
      "[[0, 0, 0],\n",
      "[0, 0, 0],\n",
      "[0, 0, 0]],\n",
      "[[0, 0, 0],\n",
      "[0, 0, 0],\n",
      "[0, 0, 0]]], dtype=uint8, shape=3x3x3)\n"
     ]
    }
   ],
   "source": [
    "x[Index(0, 1,1)] = 1\n",
    "\n",
    "print(x)"
   ]
  },
  {
   "cell_type": "code",
   "execution_count": 23,
   "metadata": {},
   "outputs": [
    {
     "name": "stdout",
     "output_type": "stream",
     "text": [
      "error: \u001b[0;1;31m\u001b[1mExpression [23]:10:43: \u001b[0m\u001b[1mcannot implicitly convert 'PythonObject' value to 'SIMD[ui8, 1]' in assignment\n",
      "\u001b[0m        x[Index(0, i, j)] = random.randint(0, 1)\n",
      "\u001b[0;1;32m                            ~~~~~~~~~~~~~~^~~~~~\n",
      "\u001b[0m\u001b[0m"
     ]
    },
    {
     "name": "stderr",
     "output_type": "stream",
     "text": [
      "expression failed to parse (no further compiler diagnostics)"
     ]
    }
   ],
   "source": [
    "# import random \n",
    "from python import Python\n",
    "\n",
    "var random = Python.import_module(\"random\")\n",
    "\n",
    "for i in range(height):\n",
    "    for j in range(width):\n",
    "        # random.randint[DType.uint8](x[0][i][j], 1, 0, 1)\n",
    "        # x[Index(i,j)] = random.random_si64(0, 1)\n",
    "        x[Index(0, i, j)] = random.randint(0, 1)\n",
    "\n",
    "print(x)"
   ]
  },
  {
   "cell_type": "code",
   "execution_count": 17,
   "metadata": {},
   "outputs": [
    {
     "name": "stdout",
     "output_type": "stream",
     "text": [
      "1\n"
     ]
    }
   ],
   "source": [
    "from python import Python\n",
    "\n",
    "var random = Python.import_module(\"random\")\n",
    "\n",
    "print(random.randint(0, 1))"
   ]
  },
  {
   "cell_type": "code",
   "execution_count": null,
   "metadata": {},
   "outputs": [
    {
     "name": "stdout",
     "output_type": "stream",
     "text": [
      "1\n"
     ]
    }
   ],
   "source": [
    "print(random.random_si64(0, 1))"
   ]
  },
  {
   "cell_type": "code",
   "execution_count": null,
   "metadata": {},
   "outputs": [],
   "source": [
    "from random import rand"
   ]
  },
  {
   "cell_type": "code",
   "execution_count": null,
   "metadata": {},
   "outputs": [
    {
     "name": "stdout",
     "output_type": "stream",
     "text": [
      "error: \u001b[0;1;31m\u001b[1mExpression [48]:2:26: \u001b[0m\u001b[1minvalid call to 'rand': missing 1 required positional argument: 'size'\n",
      "\u001b[0mvar x = rand[DType.uint8](shape)\n",
      "\u001b[0;1;32m        ~~~~~~~~~~~~~~~~~^~~~~~~\n",
      "\u001b[0m\u001b[0m"
     ]
    },
    {
     "name": "stderr",
     "output_type": "stream",
     "text": [
      "\u001b[0;1;30m\u001b[1mExpression [0] wrapper:16:5: \u001b[0m\u001b[1mfunction declared here\n",
      "\u001b[0m    var __lldb_repl_python__ = __mojo_repl_Python()\n",
      "\u001b[0;1;32m    ^\n",
      "\u001b[0m\u001b[0m\n",
      "expression failed to parse (no further compiler diagnostics)"
     ]
    }
   ],
   "source": [
    "var shape = TensorShape(3, 3)\n",
    "var x = rand[DType.uint8](shape)\n",
    "\n",
    "print(x)"
   ]
  },
  {
   "cell_type": "code",
   "execution_count": null,
   "metadata": {},
   "outputs": [],
   "source": []
  }
 ],
 "metadata": {
  "kernelspec": {
   "display_name": "Mojo",
   "language": "mojo",
   "name": "mojo-jupyter-kernel"
  },
  "language_info": {
   "codemirror_mode": {
    "name": "mojo"
   },
   "file_extension": ".mojo",
   "mimetype": "text/x-mojo",
   "name": "mojo"
  }
 },
 "nbformat": 4,
 "nbformat_minor": 2
}
