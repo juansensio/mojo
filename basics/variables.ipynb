{
 "cells": [
  {
   "cell_type": "markdown",
   "metadata": {},
   "source": [
    "# Basics"
   ]
  },
  {
   "cell_type": "markdown",
   "metadata": {},
   "source": [
    "You can declare variables with the `var` keyword. Or, if your code is in a `def` function, you can omit the `var` (in an `fn` function, you must include the `var` keyword)."
   ]
  },
  {
   "cell_type": "code",
   "execution_count": 1,
   "metadata": {},
   "outputs": [],
   "source": [
    "def do_math(x):\n",
    "    var y = x + x\n",
    "    y = y * y\n",
    "    print(y)"
   ]
  },
  {
   "cell_type": "code",
   "execution_count": 2,
   "metadata": {},
   "outputs": [
    {
     "name": "stdout",
     "output_type": "stream",
     "text": [
      "100\n"
     ]
    }
   ],
   "source": [
    "do_math(5)"
   ]
  },
  {
   "cell_type": "code",
   "execution_count": 3,
   "metadata": {},
   "outputs": [],
   "source": [
    "def add_one(x):\n",
    "    var y: Int = 1\n",
    "    print(x + y)"
   ]
  },
  {
   "cell_type": "code",
   "execution_count": 4,
   "metadata": {},
   "outputs": [
    {
     "name": "stdout",
     "output_type": "stream",
     "text": [
      "6\n"
     ]
    }
   ],
   "source": [
    "add_one(5)"
   ]
  },
  {
   "cell_type": "code",
   "execution_count": 8,
   "metadata": {},
   "outputs": [],
   "source": [
    "fn do_math(x: Int) -> Int:\n",
    "    var y = x + x\n",
    "    y = y * y\n",
    "    return y"
   ]
  },
  {
   "cell_type": "code",
   "execution_count": 9,
   "metadata": {},
   "outputs": [
    {
     "name": "stdout",
     "output_type": "stream",
     "text": [
      "100\n"
     ]
    }
   ],
   "source": [
    "print(do_math(5))"
   ]
  },
  {
   "cell_type": "code",
   "execution_count": 10,
   "metadata": {},
   "outputs": [
    {
     "name": "stdout",
     "output_type": "stream",
     "text": [
      "error: \u001b[0;1;31m\u001b[1mExpression [11]:2:5: \u001b[0m\u001b[1muse of unknown declaration 'y', 'fn' declarations require explicit variable declarations\n",
      "\u001b[0m    y = x + x\n",
      "\u001b[0;1;32m    ^\n",
      "\u001b[0m\u001b[0merror: \u001b[0;1;31m\u001b[1mExpression [11]:3:9: \u001b[0m\u001b[1muse of unknown declaration 'y', 'fn' declarations require explicit variable declarations\n",
      "\u001b[0m    y = y * y\n",
      "\u001b[0;1;32m        ^\n",
      "\u001b[0m\u001b[0merror: \u001b[0;1;31m\u001b[1mExpression [11]:3:13: \u001b[0m\u001b[1muse of unknown declaration 'y', 'fn' declarations require explicit variable declarations\n",
      "\u001b[0m    y = y * y\n",
      "\u001b[0;1;32m            ^\n",
      "\u001b[0m\u001b[0merror: \u001b[0;1;31m\u001b[1mExpression [11]:4:12: \u001b[0m\u001b[1muse of unknown declaration 'y', 'fn' declarations require explicit variable declarations\n",
      "\u001b[0m    return y\n",
      "\u001b[0;1;32m           ^\n",
      "\u001b[0m\u001b[0m"
     ]
    },
    {
     "name": "stderr",
     "output_type": "stream",
     "text": [
      "expression failed to parse (no further compiler diagnostics)"
     ]
    }
   ],
   "source": [
    "fn do_math(x: Int) -> Int:\n",
    "    y = x + x\n",
    "    y = y * y\n",
    "    return y"
   ]
  },
  {
   "cell_type": "markdown",
   "metadata": {},
   "source": [
    "https://docs.modular.com/mojo/manual/variables"
   ]
  },
  {
   "cell_type": "code",
   "execution_count": 22,
   "metadata": {},
   "outputs": [
    {
     "name": "stdout",
     "output_type": "stream",
     "text": [
      "1\n"
     ]
    }
   ],
   "source": [
    "x = 1 \n",
    "\n",
    "print(x)"
   ]
  },
  {
   "cell_type": "code",
   "execution_count": 14,
   "metadata": {},
   "outputs": [
    {
     "name": "stdout",
     "output_type": "stream",
     "text": [
      "1\n"
     ]
    }
   ],
   "source": [
    "var x = 1\n",
    "\n",
    "print(x)"
   ]
  },
  {
   "cell_type": "code",
   "execution_count": 15,
   "metadata": {},
   "outputs": [
    {
     "name": "stdout",
     "output_type": "stream",
     "text": [
      "1\n"
     ]
    }
   ],
   "source": [
    "var x: Int = 1  # strong compile-time type checking for variables\n",
    "\n",
    "print(x)"
   ]
  },
  {
   "cell_type": "code",
   "execution_count": 16,
   "metadata": {},
   "outputs": [
    {
     "name": "stdout",
     "output_type": "stream",
     "text": [
      "error: \u001b[0;1;31m\u001b[1mExpression [18]:1:2: \u001b[0m\u001b[1mstatements must start at the beginning of a line\n",
      "\u001b[0mx: Int = 1\n",
      "\u001b[0;1;32m ^\n",
      "\u001b[0m\u001b[0m"
     ]
    },
    {
     "name": "stderr",
     "output_type": "stream",
     "text": [
      "warning: \u001b[0;1;35m\u001b[1mExpression [18]:1:1: \u001b[0m\u001b[1m'Int' value is unused\n",
      "\u001b[0mx: Int = 1\n",
      "\u001b[0;1;32m^\n",
      "\u001b[0m_ = \n",
      "\u001b[0m\n",
      "expression failed to parse (no further compiler diagnostics)"
     ]
    }
   ],
   "source": [
    "x: Int = 1"
   ]
  },
  {
   "cell_type": "code",
   "execution_count": 18,
   "metadata": {},
   "outputs": [
    {
     "name": "stdout",
     "output_type": "stream",
     "text": [
      "5124051360\n"
     ]
    }
   ],
   "source": [
    "var x: Int \n",
    "\n",
    "print(x)"
   ]
  },
  {
   "cell_type": "code",
   "execution_count": 23,
   "metadata": {},
   "outputs": [
    {
     "name": "stdout",
     "output_type": "stream",
     "text": [
      "error: \u001b[0;1;31m\u001b[1mExpression [26]:3:5: \u001b[0m\u001b[1muse of unknown declaration 'z', 'fn' declarations require explicit variable declarations\n",
      "\u001b[0m    z = y * y\n",
      "\u001b[0;1;32m    ^\n",
      "\u001b[0m\u001b[0m"
     ]
    },
    {
     "name": "stderr",
     "output_type": "stream",
     "text": [
      "expression failed to parse (no further compiler diagnostics)"
     ]
    }
   ],
   "source": [
    "fn do_math(x: Int) -> Int:\n",
    "    var y = x + x\n",
    "    z = y * y # Error: z is not defined\n",
    "    return y"
   ]
  },
  {
   "cell_type": "code",
   "execution_count": 25,
   "metadata": {},
   "outputs": [],
   "source": [
    "def do_math(x: Int) -> Int:\n",
    "    var y = x + x\n",
    "    z = y * y # z is a new variable\n",
    "    return y"
   ]
  },
  {
   "cell_type": "code",
   "execution_count": 26,
   "metadata": {},
   "outputs": [],
   "source": [
    "var name1: String = \"Sam\"\n",
    "var name2 = String(\"Sam\")"
   ]
  },
  {
   "cell_type": "code",
   "execution_count": 29,
   "metadata": {},
   "outputs": [
    {
     "name": "stdout",
     "output_type": "stream",
     "text": [
      "Sam\n",
      "Sam\n"
     ]
    }
   ],
   "source": [
    "print(name1)\n",
    "print(name2)"
   ]
  },
  {
   "cell_type": "markdown",
   "metadata": {},
   "source": [
    "# Late initialization"
   ]
  },
  {
   "cell_type": "code",
   "execution_count": 30,
   "metadata": {},
   "outputs": [],
   "source": [
    "fn my_function(x: Int):\n",
    "    var z: Float32\n",
    "    if x != 0:\n",
    "        z = 1.0\n",
    "    else:\n",
    "        z = foo()\n",
    "    print(z)\n",
    "\n",
    "fn foo() -> Float32:\n",
    "    return 3.14"
   ]
  },
  {
   "cell_type": "code",
   "execution_count": 32,
   "metadata": {},
   "outputs": [
    {
     "name": "stdout",
     "output_type": "stream",
     "text": [
      "1.0\n",
      "3.1400001049041748\n"
     ]
    }
   ],
   "source": [
    "my_function(1)\n",
    "my_function(0)"
   ]
  },
  {
   "cell_type": "markdown",
   "metadata": {},
   "source": [
    "# Implicit type conversion"
   ]
  },
  {
   "cell_type": "code",
   "execution_count": 38,
   "metadata": {},
   "outputs": [
    {
     "name": "stdout",
     "output_type": "stream",
     "text": [
      "1\n",
      "11\n"
     ]
    }
   ],
   "source": [
    "var number: String = 1 # this is \"1\"\n",
    "\n",
    "print(number)\n",
    "print(number + 1)"
   ]
  },
  {
   "cell_type": "markdown",
   "metadata": {},
   "source": [
    "Es lo mismo que hacer"
   ]
  },
  {
   "cell_type": "code",
   "execution_count": 43,
   "metadata": {},
   "outputs": [
    {
     "name": "stdout",
     "output_type": "stream",
     "text": [
      "1\n"
     ]
    }
   ],
   "source": [
    "var number = String(1)\n",
    "\n",
    "print(number)"
   ]
  },
  {
   "cell_type": "markdown",
   "metadata": {},
   "source": [
    "El constructor de `String` está overloaded para recibir un `int` (y otros tipos)."
   ]
  },
  {
   "cell_type": "code",
   "execution_count": 44,
   "metadata": {},
   "outputs": [],
   "source": [
    "fn take_string(version: String):\n",
    "    print(version)\n",
    "\n",
    "fn pass_integer():\n",
    "    var version: Int = 1\n",
    "    take_string(version) # funciona porque el int se puede convertir a string"
   ]
  },
  {
   "cell_type": "code",
   "execution_count": 45,
   "metadata": {},
   "outputs": [
    {
     "name": "stdout",
     "output_type": "stream",
     "text": [
      "1\n"
     ]
    }
   ],
   "source": [
    "pass_integer()"
   ]
  },
  {
   "cell_type": "markdown",
   "metadata": {},
   "source": [
    "Esto no va un poco en contra del type safety?"
   ]
  },
  {
   "cell_type": "markdown",
   "metadata": {},
   "source": [
    "https://docs.modular.com/mojo/manual/lifecycle/life/#constructors-and-implicit-conversion"
   ]
  },
  {
   "cell_type": "markdown",
   "metadata": {},
   "source": [
    "# Scopes"
   ]
  },
  {
   "cell_type": "markdown",
   "metadata": {},
   "source": [
    "Variables declared with var are bound by lexical scoping. This means that nested code blocks can read and modify variables defined in an outer scope. But an outer scope cannot read variables defined in an inner scope at all."
   ]
  },
  {
   "cell_type": "code",
   "execution_count": 47,
   "metadata": {},
   "outputs": [
    {
     "name": "stderr",
     "output_type": "stream",
     "text": [
      "warning: \u001b[0;1;35m\u001b[1mExpression [52]:4:8: \u001b[0m\u001b[1mif statement with constant condition 'if True'\n",
      "\u001b[0m    if True:\n",
      "\u001b[0;1;32m       ^\n",
      "\u001b[0m\u001b[0m\n"
     ]
    },
    {
     "name": "stdout",
     "output_type": "stream",
     "text": [
      "num: 10\n",
      "num: 20\n",
      "num: 10\n",
      "dig: 2\n"
     ]
    }
   ],
   "source": [
    "def lexical_scopes():\n",
    "    var num = 10\n",
    "    var dig = 1\n",
    "    if True:\n",
    "        print(\"num:\", num)  # Reads the outer-scope \"num\"\n",
    "        var num = 20        # Creates new inner-scope \"num\"\n",
    "        print(\"num:\", num)  # Reads the inner-scope \"num\"\n",
    "        dig = 2             # Edits the outer-scope \"dig\"\n",
    "    print(\"num:\", num)      # Reads the outer-scope \"num\"\n",
    "    print(\"dig:\", dig)      # Reads the outer-scope \"dig\"\n",
    "\n",
    "lexical_scopes()"
   ]
  },
  {
   "cell_type": "markdown",
   "metadata": {},
   "source": [
    "Note that the var statement inside the if creates a new variable with the same name as the outer variable. This prevents the inner loop from accessing the outer num variable. (This is called \"variable shadowing,\" where the inner scope variable hides or \"shadows\" a variable from an outer scope.)"
   ]
  },
  {
   "cell_type": "code",
   "execution_count": 48,
   "metadata": {},
   "outputs": [
    {
     "name": "stdout",
     "output_type": "stream",
     "text": [
      "1\n",
      "2\n",
      "2\n"
     ]
    }
   ],
   "source": [
    "def function_scopes():\n",
    "    num = 1\n",
    "    if num == 1:\n",
    "        print(num)   # Reads the function-scope \"num\"\n",
    "        num = 2      # Updates the function-scope variable\n",
    "        print(num)   # Reads the function-scope \"num\"\n",
    "    print(num)       # Reads the function-scope \"num\"\n",
    "\n",
    "function_scopes()"
   ]
  }
 ],
 "metadata": {
  "kernelspec": {
   "display_name": "Mojo",
   "language": "mojo",
   "name": "mojo-jupyter-kernel"
  },
  "language_info": {
   "codemirror_mode": {
    "name": "mojo"
   },
   "file_extension": ".mojo",
   "mimetype": "text/x-mojo",
   "name": "mojo"
  }
 },
 "nbformat": 4,
 "nbformat_minor": 2
}
