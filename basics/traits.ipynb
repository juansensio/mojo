{
 "cells": [
  {
   "cell_type": "markdown",
   "metadata": {},
   "source": [
    "A trait is like a template of characteristics for a struct. If you want to create a struct with the characteristics defined in a trait, you must implement each characteristic (such as each method). Each characteristic in a trait is a \"requirement\" for the struct, and when your struct implements each requirement, it's said to \"conform\" to the trait.\n",
    "\n",
    "Using traits allows you to write generic functions that can accept any type that conforms to a trait, rather than accept only specific types."
   ]
  },
  {
   "cell_type": "code",
   "execution_count": 2,
   "metadata": {},
   "outputs": [],
   "source": [
    "trait SomeTrait:\n",
    "    fn required_method(self, x: Int): ..."
   ]
  },
  {
   "cell_type": "code",
   "execution_count": 3,
   "metadata": {},
   "outputs": [],
   "source": [
    "@value\n",
    "struct SomeStruct(SomeTrait):\n",
    "    fn required_method(self, x: Int):\n",
    "        print(\"hello traits\", x)"
   ]
  },
  {
   "cell_type": "code",
   "execution_count": 4,
   "metadata": {},
   "outputs": [],
   "source": [
    "fn fun_with_traits[T: SomeTrait](x: T):\n",
    "    x.required_method(42)\n",
    "\n",
    "fn use_trait_function():\n",
    "    var thing = SomeStruct()\n",
    "    fun_with_traits(thing)"
   ]
  },
  {
   "cell_type": "code",
   "execution_count": 5,
   "metadata": {},
   "outputs": [
    {
     "name": "stdout",
     "output_type": "stream",
     "text": [
      "hello traits 42\n"
     ]
    }
   ],
   "source": [
    "use_trait_function()"
   ]
  },
  {
   "cell_type": "markdown",
   "metadata": {},
   "source": [
    "With traits, the function can accept any type for x as long as it conforms to (it \"implements\") SomeTrait. Thus, fun_with_traits() is known as a \"generic function\" because it accepts a generalized type instead of a specific type."
   ]
  },
  {
   "cell_type": "markdown",
   "metadata": {},
   "source": [
    "In Mojo, a parameter is a compile-time variable that becomes a runtime constant, and it's declared in square brackets on a function or struct. Parameters allow for compile-time metaprogramming, which means you can generate or modify code at compile time."
   ]
  },
  {
   "cell_type": "markdown",
   "metadata": {},
   "source": [
    "https://docs.modular.com/mojo/manual/parameters/"
   ]
  },
  {
   "cell_type": "code",
   "execution_count": 6,
   "metadata": {},
   "outputs": [],
   "source": [
    "fn repeat[count: Int](msg: String):\n",
    "    for i in range(count):\n",
    "        print(msg)"
   ]
  },
  {
   "cell_type": "code",
   "execution_count": 7,
   "metadata": {},
   "outputs": [],
   "source": [
    "fn call_repeat():\n",
    "    repeat[3](\"Hello\")\n",
    "    # Prints \"Hello\" 3 times"
   ]
  },
  {
   "cell_type": "markdown",
   "metadata": {},
   "source": [
    "By specifying count as a parameter, the Mojo compiler is able to optimize the function because this value is guaranteed to not change at runtime. The compiler effectively generates a unique version of the repeat() function that repeats the message only 3 times. This makes the code more performant because there's less to compute at runtime."
   ]
  }
 ],
 "metadata": {
  "kernelspec": {
   "display_name": "Mojo",
   "language": "mojo",
   "name": "mojo-jupyter-kernel"
  },
  "language_info": {
   "codemirror_mode": {
    "name": "mojo"
   },
   "file_extension": ".mojo",
   "mimetype": "text/x-mojo",
   "name": "mojo"
  }
 },
 "nbformat": 4,
 "nbformat_minor": 2
}
