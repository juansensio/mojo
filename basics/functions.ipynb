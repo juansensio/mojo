{
 "cells": [
  {
   "cell_type": "markdown",
   "metadata": {},
   "source": [
    "Mojo functions can be declared with either `fn` or `def`.\n",
    "\n",
    "The `fn` declaration enforces type-checking and memory-safe behaviors (Rust style), while `def` allows no type declarations and dynamic behaviors (Python style)."
   ]
  },
  {
   "cell_type": "code",
   "execution_count": 1,
   "metadata": {},
   "outputs": [],
   "source": [
    "def greet(name):\n",
    "    return \"Hello, \" + name + \"!\""
   ]
  },
  {
   "cell_type": "code",
   "execution_count": 2,
   "metadata": {},
   "outputs": [],
   "source": [
    "greet('juan') # parece que no hace un print automático como Python"
   ]
  },
  {
   "cell_type": "code",
   "execution_count": 3,
   "metadata": {},
   "outputs": [
    {
     "name": "stdout",
     "output_type": "stream",
     "text": [
      "'Hello, juan!'\n"
     ]
    }
   ],
   "source": [
    "print(greet('juan'))"
   ]
  },
  {
   "cell_type": "code",
   "execution_count": 4,
   "metadata": {},
   "outputs": [],
   "source": [
    "fn greet2(name: String) -> String:\n",
    "    return \"Hello, \" + name + \"!\""
   ]
  },
  {
   "cell_type": "code",
   "execution_count": 5,
   "metadata": {},
   "outputs": [
    {
     "name": "stdout",
     "output_type": "stream",
     "text": [
      "Hello, juan!\n"
     ]
    }
   ],
   "source": [
    "# greet2('juan')\n",
    "print(greet2('juan'))"
   ]
  },
  {
   "cell_type": "markdown",
   "metadata": {},
   "source": [
    "Both functions have the same result, but the fn function provides compile-time checks to ensure the function receives and returns the correct types. Whereas, the def function might fail at runtime if it receives the wrong type."
   ]
  },
  {
   "cell_type": "code",
   "execution_count": 6,
   "metadata": {},
   "outputs": [
    {
     "name": "stdout",
     "output_type": "stream",
     "text": [
      "error: \u001b[0;1;31m\u001b[1mExpression [6]:2:29: \u001b[0m\u001b[1mcannot implicitly convert 'String' value to 'None' in return value\n",
      "\u001b[0m    return \"Hello, \" + name + \"!\"\n",
      "\u001b[0;1;32m           ~~~~~~~~~~~~~~~~~^~~~~\n",
      "\u001b[0m\u001b[0m"
     ]
    },
    {
     "name": "stderr",
     "output_type": "stream",
     "text": [
      "expression failed to parse (no further compiler diagnostics)"
     ]
    }
   ],
   "source": [
    "fn greet2(name: String):\n",
    "    return \"Hello, \" + name + \"!\""
   ]
  },
  {
   "cell_type": "code",
   "execution_count": null,
   "metadata": {},
   "outputs": [
    {
     "name": "stdout",
     "output_type": "stream",
     "text": [
      "error: \u001b[0;1;31m\u001b[1mExpression [36]:1:11: \u001b[0m\u001b[1m'fn' argument type must be specified\n",
      "\u001b[0mfn greet2(name) -> String:\n",
      "\u001b[0;1;32m          ^~~~\n",
      "\u001b[0m\u001b[0m"
     ]
    },
    {
     "name": "stderr",
     "output_type": "stream",
     "text": [
      "expression failed to parse (no further compiler diagnostics)"
     ]
    }
   ],
   "source": [
    "fn greet2(name) -> String:\n",
    "    return \"Hello, \" + name + \"!\""
   ]
  },
  {
   "cell_type": "markdown",
   "metadata": {},
   "source": [
    "If you're wondering whether function arguments are passed by value or passed by reference, the short answer is: def functions receive arguments \"by value\" and fn functions receive arguments \"by immutable reference.\"\n",
    "\n",
    "The longer short answer is that Mojo allows you to specify for each argument whether it should be passed by value (as owned), or whether it should be passed by reference (as borrowed for an immutable reference, or as inout for a mutable reference).\n",
    "\n",
    "This feature is entwined with Mojo's value ownership model, which protects you from memory errors by ensuring that only one variable \"owns\" a value at any given time (but allowing other variables to receive a reference to it). Ownership then ensures that the value is destroyed when the lifetime of the owner ends (and there are no outstanding references).\n"
   ]
  },
  {
   "cell_type": "markdown",
   "metadata": {},
   "source": [
    "https://docs.modular.com/mojo/manual/values/"
   ]
  },
  {
   "cell_type": "markdown",
   "metadata": {},
   "source": [
    "https://docs.modular.com/mojo/manual/functions"
   ]
  },
  {
   "cell_type": "markdown",
   "metadata": {},
   "source": [
    "Optional arguments"
   ]
  },
  {
   "cell_type": "code",
   "execution_count": 8,
   "metadata": {},
   "outputs": [
    {
     "name": "stdout",
     "output_type": "stream",
     "text": [
      "9\n"
     ]
    }
   ],
   "source": [
    "fn pow(base: Int, exp: Int = 2) -> Int:\n",
    "    return base ** exp\n",
    "\n",
    "fn use_defaults():\n",
    "    # Uses the default value for `exp`\n",
    "    var z = pow(3)\n",
    "    print(z)\n",
    "\n",
    "use_defaults()"
   ]
  },
  {
   "cell_type": "markdown",
   "metadata": {},
   "source": [
    "keyword arguments"
   ]
  },
  {
   "cell_type": "code",
   "execution_count": 10,
   "metadata": {},
   "outputs": [
    {
     "name": "stdout",
     "output_type": "stream",
     "text": [
      "8\n"
     ]
    }
   ],
   "source": [
    "fn pow(base: Int, exp: Int = 2) -> Int:\n",
    "    return base ** exp\n",
    "\n",
    "fn use_keywords():\n",
    "    # Uses keyword argument names (with order reversed)\n",
    "    var z = pow(exp=3, base=2)\n",
    "    print(z)\n",
    "\n",
    "use_keywords()"
   ]
  },
  {
   "cell_type": "markdown",
   "metadata": {},
   "source": [
    "Variadic arguments"
   ]
  },
  {
   "cell_type": "code",
   "execution_count": 11,
   "metadata": {},
   "outputs": [],
   "source": [
    "fn sum(*values: Int) -> Int:\n",
    "  var sum: Int = 0\n",
    "  for value in values:\n",
    "    sum = sum+value\n",
    "  return sum"
   ]
  },
  {
   "cell_type": "code",
   "execution_count": 12,
   "metadata": {},
   "outputs": [
    {
     "name": "stdout",
     "output_type": "stream",
     "text": [
      "a = 7\n",
      "y = 8\n"
     ]
    }
   ],
   "source": [
    "fn print_nicely(**kwargs: Int) raises:\n",
    "  for key in kwargs.keys():\n",
    "      print(key[], \"=\", kwargs[key[]])\n",
    "\n",
    " # prints:\n",
    " # `a = 7`\n",
    " # `y = 8`\n",
    "print_nicely(a=7, y=8)"
   ]
  },
  {
   "cell_type": "markdown",
   "metadata": {},
   "source": [
    "Positional only arguments"
   ]
  },
  {
   "cell_type": "code",
   "execution_count": 19,
   "metadata": {},
   "outputs": [
    {
     "name": "stdout",
     "output_type": "stream",
     "text": [
      "1\n"
     ]
    }
   ],
   "source": [
    "fn min(a: Int, b: Int, /) -> Int:\n",
    "    return a if a < b else b\n",
    "\n",
    "print(min(1, 2))"
   ]
  },
  {
   "cell_type": "code",
   "execution_count": 21,
   "metadata": {},
   "outputs": [
    {
     "name": "stdout",
     "output_type": "stream",
     "text": [
      "error: \u001b[0;1;31m\u001b[1mExpression [24]:1:4: \u001b[0m\u001b[1minvalid call to 'min': positional-only arguments passed as keyword operands: 'a', 'b'\n",
      "\u001b[0mmin(a=1, b=2) # no se puede usar keyword arguments\n",
      "\u001b[0;1;32m~~~^~~~~~~~~~\n",
      "\u001b[0m\u001b[0m"
     ]
    },
    {
     "name": "stderr",
     "output_type": "stream",
     "text": [
      "\u001b[0;1;30m\u001b[1mExpression [22]:1:4: \u001b[0m\u001b[1mfunction declared here\n",
      "\u001b[0mfn min(a: Int, b: Int, /) -> Int:\n",
      "\u001b[0;1;32m   ^\n",
      "\u001b[0m\u001b[0m\n",
      "expression failed to parse (no further compiler diagnostics)"
     ]
    }
   ],
   "source": [
    "min(a=1, b=2) # no se puede usar keyword arguments"
   ]
  },
  {
   "cell_type": "markdown",
   "metadata": {},
   "source": [
    "Cualquier argumento después de variadic es keyword"
   ]
  },
  {
   "cell_type": "code",
   "execution_count": 22,
   "metadata": {},
   "outputs": [],
   "source": [
    "fn sort(*values: Float64, ascending: Bool = True): ...\n",
    "\n",
    "var a = sort(1.1, 6.5, 4.3, ascending=False)"
   ]
  },
  {
   "cell_type": "markdown",
   "metadata": {},
   "source": [
    "keyword only arguments"
   ]
  },
  {
   "cell_type": "code",
   "execution_count": 25,
   "metadata": {},
   "outputs": [
    {
     "name": "stdout",
     "output_type": "stream",
     "text": [
      "4\n"
     ]
    }
   ],
   "source": [
    "fn kw_only_args(a1: Int, a2: Int, *, double: Bool) -> Int:\n",
    "    var product = a1 * a2\n",
    "    if double:\n",
    "        return product * 2\n",
    "    else:\n",
    "        return product\n",
    "\n",
    "print(kw_only_args(1, 2, double=True)) "
   ]
  },
  {
   "cell_type": "code",
   "execution_count": 29,
   "metadata": {},
   "outputs": [
    {
     "name": "stderr",
     "output_type": "stream",
     "text": [
      "warning: \u001b[0;1;35m\u001b[1mExpression [34]:1:13: \u001b[0m\u001b[1m'Int' value is unused\n",
      "\u001b[0mkw_only_args(1, 2, double=True) # no se puede sin keyword arguments\n",
      "\u001b[0;1;32m~~~~~~~~~~~~^~~~~~~~~~~~~~~~~~~\n",
      "\u001b[0m_ = \n",
      "\u001b[0m\n"
     ]
    }
   ],
   "source": [
    "kw_only_args(1, 2, double=True) # no se puede sin keyword arguments"
   ]
  },
  {
   "cell_type": "markdown",
   "metadata": {},
   "source": [
    "Overloaded functions"
   ]
  },
  {
   "cell_type": "code",
   "execution_count": 33,
   "metadata": {},
   "outputs": [
    {
     "name": "stdout",
     "output_type": "stream",
     "text": [
      "3\n",
      "hello world\n"
     ]
    }
   ],
   "source": [
    "fn add(x: Int, y: Int) -> Int:\n",
    "    return x + y\n",
    "\n",
    "fn add(x: String, y: String) -> String:\n",
    "    return x + ' ' + y\n",
    "\n",
    "print(add(1, 2)) \n",
    "print(add(\"hello\", \"world\"))"
   ]
  },
  {
   "cell_type": "code",
   "execution_count": 35,
   "metadata": {},
   "outputs": [
    {
     "name": "stdout",
     "output_type": "stream",
     "text": [
      "1 2\n",
      "1 2\n"
     ]
    }
   ],
   "source": [
    "print(add(\"1\", 2)) \n",
    "print(add(1, \"2\")) "
   ]
  }
 ],
 "metadata": {
  "kernelspec": {
   "display_name": "Mojo",
   "language": "mojo",
   "name": "mojo-jupyter-kernel"
  },
  "language_info": {
   "codemirror_mode": {
    "name": "mojo"
   },
   "file_extension": ".mojo",
   "mimetype": "text/x-mojo",
   "name": "mojo"
  }
 },
 "nbformat": 4,
 "nbformat_minor": 2
}
